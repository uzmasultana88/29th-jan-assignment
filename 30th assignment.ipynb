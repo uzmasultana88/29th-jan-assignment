{
 "cells": [
  {
   "cell_type": "markdown",
   "id": "e1f71486-6d36-44ac-ab38-b3ca43af6eeb",
   "metadata": {},
   "source": [
    "1. Write a program to accept percentage from the user and display the grade according to the following \n",
    "criteria: \n",
    "Marks \n",
    "Grade \n",
    ">90 \n",
    "A \n",
    ">80 and <=90 \n",
    "B \n",
    ">=60 and <=80 \n",
    "C \n",
    "below 60 \n",
    "D \n"
   ]
  },
  {
   "cell_type": "code",
   "execution_count": 5,
   "id": "72384ee1-bc05-444e-9cb7-da893c171a4d",
   "metadata": {},
   "outputs": [
    {
     "name": "stdin",
     "output_type": "stream",
     "text": [
      "enter the percentage  35\n"
     ]
    },
    {
     "name": "stdout",
     "output_type": "stream",
     "text": [
      "you got D grade\n"
     ]
    }
   ],
   "source": [
    "stud_per=int(input(\"enter the percentage \"))\n",
    "if stud_per>90:\n",
    "             print(\"you got A grade\")\n",
    "if stud_per<=90 and stud_per>80:\n",
    "             print(\"you got B grade\")\n",
    "if stud_per<=80 and stud_per>=60:\n",
    "             print(\"you got c grade\")\n",
    "else :\n",
    "             print(\"you got D grade\")"
   ]
  },
  {
   "cell_type": "markdown",
   "id": "6437e814-3e71-4b00-82d9-5b8dbb3119f2",
   "metadata": {},
   "source": [
    "2. Write a program to accept the cost price of a bike and display the road tax to be paid according to the \n",
    "following criteria: \n",
    "Tax \n",
    "15% \n",
    "10% \n",
    "5% \n",
    "Cost Price(in Rs) \n",
    ">100000 \n",
    "5 \n",
    "50000 and <= 100000 \n",
    "<= 50000 \n"
   ]
  },
  {
   "cell_type": "code",
   "execution_count": 9,
   "id": "1b5b2db1-1463-46b3-a370-b6712e79bc84",
   "metadata": {},
   "outputs": [
    {
     "name": "stdin",
     "output_type": "stream",
     "text": [
      "enter the cost price of the bike 12000\n"
     ]
    },
    {
     "name": "stdout",
     "output_type": "stream",
     "text": [
      "the tax to be paid:600.0\n"
     ]
    }
   ],
   "source": [
    "cp_bike=int(input(\"enter the cost price of the bike\"))\n",
    "tax=0\n",
    "if cp_bike>100000:\n",
    "    tax=15/100*cp_bike\n",
    "elif cp_bike>50000 and cp_bike<=100000:\n",
    "    tax=10/100*cp_bike\n",
    "else:\n",
    "    tax=5/100*cp_bike\n",
    "print(f\"the tax to be paid:{tax}\")"
   ]
  },
  {
   "cell_type": "markdown",
   "id": "37c024f6-499e-40dd-ac9a-5065489157cc",
   "metadata": {},
   "source": [
    "3. Accept any city from the user and display monuments of that city. \n",
    "City \n",
    "Delhi \n",
    "Monument \n",
    "Red Fort \n",
    "Taj Mahal \n",
    "Agra \n",
    "Jaipur \n",
    "Jal Mahal \n"
   ]
  },
  {
   "cell_type": "code",
   "execution_count": 8,
   "id": "d774d18c-12f5-4939-9aa2-1d81a67c5a2a",
   "metadata": {},
   "outputs": [
    {
     "name": "stdin",
     "output_type": "stream",
     "text": [
      "enter any city name from the list [delhi,agra or jaipur] agra\n"
     ]
    },
    {
     "name": "stdout",
     "output_type": "stream",
     "text": [
      "the monument of agra is Taj Mahal\n"
     ]
    }
   ],
   "source": [
    "city=input(\"enter any city name from the list [delhi,agra or jaipur]\")\n",
    "if city.lower()==\"delhi\":\n",
    "    print(\"the monument of delhi is Red fort\")\n",
    "elif city.lower()==\"agra\":\n",
    "    print(\"the monument of agra is Taj Mahal\")\n",
    "elif city.lower()==\"jaipur\":\n",
    "    print(\"the monunent of jaaipur is Jal Mahal\")\n",
    "else:\n",
    "    print(\"please choose the correct city from list\")"
   ]
  },
  {
   "cell_type": "markdown",
   "id": "405e7f97-2843-47ad-876a-a4ecce198f5e",
   "metadata": {},
   "source": [
    "4. Check how many times a given number can be divided by 3 before it is less than or equal to 10."
   ]
  },
  {
   "cell_type": "code",
   "execution_count": 11,
   "id": "8927663e-bac3-4c0a-a66a-58a61a2f775c",
   "metadata": {},
   "outputs": [
    {
     "name": "stdin",
     "output_type": "stream",
     "text": [
      "enter any number 300\n"
     ]
    },
    {
     "name": "stdout",
     "output_type": "stream",
     "text": [
      "the number is divided by 3 4 times\n"
     ]
    }
   ],
   "source": [
    "num=int(input(\"enter any number\"))\n",
    "count=0\n",
    "while(num>10):\n",
    "    num=num/3\n",
    "    count+=1\n",
    "print(f\"the number is divided by 3 {count} times\".format(count)) "
   ]
  },
  {
   "cell_type": "markdown",
   "id": "a02f141d-7663-4a0b-814f-7dcb05de255a",
   "metadata": {},
   "source": [
    "5. Why and When to Use while Loop in Python give a detailed description with example \n"
   ]
  },
  {
   "cell_type": "markdown",
   "id": "19c7382a-b03e-4be3-9260-2c28ce732ea9",
   "metadata": {},
   "source": [
    "the while statement loops until the condition becomes false.if you don't have a tidy data structure to iterate through,\n",
    "or you don't have a generator function that drives your processing, you must use while."
   ]
  },
  {
   "cell_type": "code",
   "execution_count": 17,
   "id": "7f7f0130-44f9-4d32-8597-60dbe7829938",
   "metadata": {},
   "outputs": [
    {
     "name": "stdin",
     "output_type": "stream",
     "text": [
      "enter the number 34\n"
     ]
    },
    {
     "name": "stdout",
     "output_type": "stream",
     "text": [
      "the number is divided by 2 2 times\n"
     ]
    }
   ],
   "source": [
    "num=int(input(\"enter the number\"))\n",
    "count=0\n",
    "while num>=10:\n",
    "    num=num/2\n",
    "    count+=1\n",
    "print(f\"the number is divided by 2 {count} times\".format(count))"
   ]
  },
  {
   "cell_type": "markdown",
   "id": "225f74dc-8b06-43a5-a808-57e3e948f547",
   "metadata": {},
   "source": [
    "6. Use nested while loop to print 3 different pattern."
   ]
  },
  {
   "cell_type": "code",
   "execution_count": 2,
   "id": "76c77861-3f5b-40cf-829b-0442fc107a3e",
   "metadata": {},
   "outputs": [
    {
     "name": "stdin",
     "output_type": "stream",
     "text": [
      "Enter number of rows :  4\n"
     ]
    },
    {
     "name": "stdout",
     "output_type": "stream",
     "text": [
      "* * * * \n",
      "* * * \n",
      "* * \n",
      "* \n"
     ]
    }
   ],
   "source": [
    "n = int(input('Enter number of rows : '))\n",
    " \n",
    "i = 1\n",
    "while i <= n :\n",
    "    j = n\n",
    "    while j >= i:\n",
    "        print(\"*\", end = \" \")\n",
    "        j -= 1\n",
    "    print()\n",
    "    i += 1"
   ]
  },
  {
   "cell_type": "code",
   "execution_count": 3,
   "id": "7dab323a-dde1-4192-a22d-8765f0e0996b",
   "metadata": {},
   "outputs": [
    {
     "name": "stdin",
     "output_type": "stream",
     "text": [
      "Enter number of rows :  5\n"
     ]
    },
    {
     "name": "stdout",
     "output_type": "stream",
     "text": [
      "* \n",
      "* * \n",
      "* * * \n",
      "* * * * \n",
      "* * * * * \n"
     ]
    }
   ],
   "source": [
    "n = int(input('Enter number of rows : '))\n",
    " \n",
    "i = 1\n",
    "while i <= n :\n",
    "    j = 1\n",
    "    while j <= i:\n",
    "        print(\"*\", end = \" \")\n",
    "        j += 1\n",
    "    print()\n",
    "    i += 1"
   ]
  },
  {
   "cell_type": "code",
   "execution_count": 13,
   "id": "32ed963a-eb43-4e70-92f3-93ec4c706cc3",
   "metadata": {
    "scrolled": true,
    "tags": []
   },
   "outputs": [
    {
     "name": "stdin",
     "output_type": "stream",
     "text": [
      "Enter number of rows :  3\n"
     ]
    },
    {
     "name": "stdout",
     "output_type": "stream",
     "text": [
      "  1 \n",
      "  2   3 \n",
      "  4   5   6 \n"
     ]
    }
   ],
   "source": [
    "n = int(input('Enter number of rows : '))\n",
    " \n",
    "k = 1\n",
    "i = 1\n",
    "while i <= n :\n",
    "    j = 1\n",
    "    while j <= i:\n",
    "        print(\"{:3d}\".format(k), end = \" \")\n",
    "        j += 1\n",
    "        k += 1\n",
    "    print()\n",
    "    i += 1"
   ]
  },
  {
   "cell_type": "markdown",
   "id": "51dd23d2-9f1c-4697-8385-855a170e9fcb",
   "metadata": {},
   "source": [
    "7. Reverse a while loop to display numbers from 10 to 1. \n"
   ]
  },
  {
   "cell_type": "code",
   "execution_count": 17,
   "id": "41e79208-543a-4d7f-bcad-98e69cb13327",
   "metadata": {},
   "outputs": [
    {
     "name": "stdout",
     "output_type": "stream",
     "text": [
      "10\n",
      "9\n",
      "8\n",
      "7\n",
      "6\n",
      "5\n",
      "4\n",
      "3\n",
      "2\n",
      "1\n"
     ]
    }
   ],
   "source": [
    "x = 10\n",
    "\n",
    "while (x > 0):\n",
    "    print(x)\n",
    "    x -= 1"
   ]
  },
  {
   "cell_type": "code",
   "execution_count": null,
   "id": "1c26e92b-f2e1-483b-b30b-d124543f4743",
   "metadata": {},
   "outputs": [],
   "source": []
  }
 ],
 "metadata": {
  "kernelspec": {
   "display_name": "Python 3 (ipykernel)",
   "language": "python",
   "name": "python3"
  },
  "language_info": {
   "codemirror_mode": {
    "name": "ipython",
    "version": 3
   },
   "file_extension": ".py",
   "mimetype": "text/x-python",
   "name": "python",
   "nbconvert_exporter": "python",
   "pygments_lexer": "ipython3",
   "version": "3.10.8"
  }
 },
 "nbformat": 4,
 "nbformat_minor": 5
}
