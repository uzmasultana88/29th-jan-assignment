{
 "cells": [
  {
   "cell_type": "markdown",
   "id": "b9b4ef0e-231d-4595-a862-a771e4aed3ef",
   "metadata": {},
   "source": [
    "1. Who developed Python Programming Language?\n",
    "\n",
    "Ans.Python is a popular programming language. It was created by Guido van Rossum, and released in 1991.\n",
    "\n",
    "2. Which type of Programming does Python support?\n",
    "\n",
    "Ans.Python is an interpreted programming language, supporting object-oriented, structured,\n",
    "and functional programming.\n",
    "\n",
    "3. Is Python case sensitive when dealing with identifiers?\n",
    "\n",
    "Ans.yes python is case sensitive when dealing with identifiers.\n"
   ]
  },
  {
   "cell_type": "markdown",
   "id": "5d779600-6125-4184-a816-54d3842fe189",
   "metadata": {},
   "source": [
    "4. What is the correct extension of the Python file? \n",
    "\n",
    "Ans. (.py) is the correct extension\n",
    "\n",
    "5. Is Python code compiled or interpreted? \n",
    "\n",
    "Ans. python is an interpreted  language.\n",
    "\n",
    "6. Name a few blocks of code used to define in Python language?\n",
    "\n",
    "Ans. a module block ,a functional body and class definition.\n",
    "\n",
    "7. State a character used to give single-line comments in Python? \n",
    "\n",
    "Ans.# symbol is used to give single line comments\n",
    "\n",
    "8. Mention functions which can help us to find the version of python that we are currently working on?\n",
    "\n",
    "Ans.The function sys. version can help us to find the version of python that we are currently working on.\n",
    "\n",
    "\n"
   ]
  },
  {
   "cell_type": "code",
   "execution_count": 6,
   "id": "bd6bc1dc-4f0a-46f8-87f5-161a0cb6a42d",
   "metadata": {},
   "outputs": [
    {
     "data": {
      "text/plain": [
       "'3.10.8 | packaged by conda-forge | (main, Nov 22 2022, 08:26:04) [GCC 10.4.0]'"
      ]
     },
     "execution_count": 6,
     "metadata": {},
     "output_type": "execute_result"
    }
   ],
   "source": [
    "import sys\n",
    "sys.version"
   ]
  },
  {
   "cell_type": "markdown",
   "id": "9e87c849-e5da-4dc5-a6ea-b977d9279a76",
   "metadata": {},
   "source": [
    "9. Python supports the creation of anonymous functions at runtime, using a construct called\n",
    "\n",
    "ans. using a construct called as lambda\n",
    "\n",
    "10. What does pip stand for python? \n",
    "\n",
    "ans.pip is an acronym for PIP install packages.it is standard tool for installing python packages and their dependiencies in secure manner\n",
    "\n",
    "11. Mention a few built-in functions in python? \n",
    "\n",
    "ans.\n",
    "print( ) function.\n",
    "type( ) function.\n",
    "input( ) function.\n",
    "abs( ) function.\n",
    "pow( ) function.\n",
    "dir( ) function.\n",
    "sorted( ) function.\n",
    "max( ) function.\n"
   ]
  },
  {
   "cell_type": "markdown",
   "id": "9c34927d-9243-402a-a176-e12c24e272a9",
   "metadata": {},
   "source": [
    "12. What is the maximum possible length of an identifier in Python? \n",
    "\n",
    "ans.An identifier can have a maximum length of 79 characters in Python.\n",
    "\n",
    "13. What are the benefits of using Python?\n",
    "\n",
    "Ans.1.Easy to Code. Python is a very high-level programming language, yet it is easy to learn.\n",
    "2.Easy to Read. Python code looks like simple English words. its Free and Open-Source.\n",
    "3.Robust Standard Library,Interpreted and Portable. \n",
    "4. it is Object-Oriented and Procedure-Oriented. \n"
   ]
  },
  {
   "cell_type": "markdown",
   "id": "d06acb73-31a6-412e-8f97-0f3db7b550c5",
   "metadata": {},
   "source": [
    "14. How is memory managed in Python? \n",
    "\n",
    "Ans.Memory in Python is managed by Python private heap space. All Python objects and data structures are located\n",
    "in a private heap. This private heap is taken care of by Python Interpreter itself, \n",
    "and a programmer doesn't have access to this private heap.\n",
    "\n",
    "15. How to install Python on Windows and set path variables?\n",
    "\n",
    " Ans.Select Version of Python to Install in window.Download Python Executable Installer \n",
    "     which suits ur operating system .Run Executable Installer Verify Python is installed on Windows.\n",
    "     To ensure if Python is succesfully installed on your system. Follow the given steps −\n",
    "Open the command prompt.\n",
    "Type ‘python’ and press enter.\n",
    "The version of the python which you have installed will be displayed if the python is successfully installed on your windows.\n",
    "\n",
    "We need to set the path \n",
    "First, we need to locate where the python is being installed after downloading it. Press WINDOWS key and search for “Python”,\n",
    "Click on open file location and you will be in a location where Python is installed, Copy the location path from the top by clicking over it. Add Python to Windows Path.Now, we have to add the above-copied path as a variable so that windows can recognize. Search for “Environmental Variables”\n",
    "There will be two categories namely “User” and “System”, we have to add it in Users, click on New button in the User section. Now, add a Variable Name and Path which we copied previously and click OK. That’s it, DONE!\n",
    "Now, after adding the Python to the Environment variable, let’s check if the Python is running anywhere in the windows or not. To do this open CMD and type Python. If the environment variable is set then the Python command will run otherwise not."
   ]
  },
  {
   "cell_type": "markdown",
   "id": "b5ef41cf-66c4-4161-b31f-4ab4be9e30fb",
   "metadata": {},
   "source": [
    "16.Is indentation required in python.\n",
    "\n",
    "Ans. Yes indentation is mandatory in python."
   ]
  },
  {
   "cell_type": "code",
   "execution_count": null,
   "id": "9118a70f-5112-4109-81b8-605b55d93171",
   "metadata": {},
   "outputs": [],
   "source": []
  }
 ],
 "metadata": {
  "kernelspec": {
   "display_name": "Python 3 (ipykernel)",
   "language": "python",
   "name": "python3"
  },
  "language_info": {
   "codemirror_mode": {
    "name": "ipython",
    "version": 3
   },
   "file_extension": ".py",
   "mimetype": "text/x-python",
   "name": "python",
   "nbconvert_exporter": "python",
   "pygments_lexer": "ipython3",
   "version": "3.10.8"
  }
 },
 "nbformat": 4,
 "nbformat_minor": 5
}
